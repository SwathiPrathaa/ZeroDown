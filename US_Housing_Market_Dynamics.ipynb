{
  "nbformat": 4,
  "nbformat_minor": 0,
  "metadata": {
    "colab": {
      "name": "US Housing Market Dynamics.ipynb",
      "provenance": []
    },
    "kernelspec": {
      "name": "python3",
      "display_name": "Python 3"
    },
    "language_info": {
      "name": "python"
    }
  },
  "cells": [
    {
      "cell_type": "markdown",
      "source": [
        "# Import Necessary Libraries"
      ],
      "metadata": {
        "id": "f9vRy6IOmmox"
      }
    },
    {
      "cell_type": "code",
      "source": [
        "import re\n",
        "import numpy as np\n",
        "from numpy import isnan\n",
        "import pandas as pd\n",
        "from sklearn.impute import SimpleImputer\n",
        "from collections import Counter"
      ],
      "metadata": {
        "id": "V8i3Nt3OTAki"
      },
      "execution_count": 1,
      "outputs": []
    },
    {
      "cell_type": "markdown",
      "source": [
        "### Converting tsv file into csv file"
      ],
      "metadata": {
        "id": "SeOV4tRDzSrs"
      }
    },
    {
      "cell_type": "code",
      "execution_count": 2,
      "metadata": {
        "id": "eiB6DZjZSzMc"
      },
      "outputs": [],
      "source": [
        "# with open(\"/content/drive/MyDrive/ZeroDown/weekly_market_2017_2022.tsv\", 'r') as myfile:\n",
        "#   with open(\"/content/drive/MyDrive/ZeroDown/DataSet.csv\", 'w') as csv_file:\n",
        "#     for line in myfile:\n",
        "#       fileContent = re.sub(\"\\t\", \",\", line)\n",
        "#       csv_file.write(fileContent)"
      ]
    },
    {
      "cell_type": "markdown",
      "source": [
        "###Data Preprocessing"
      ],
      "metadata": {
        "id": "fRwDksNzzYsg"
      }
    },
    {
      "cell_type": "code",
      "source": [
        "df = pd.read_csv(\"/content/drive/MyDrive/ZeroDown/DataSet.csv\",index_col = False)"
      ],
      "metadata": {
        "id": "Ngud3e_KmWYs"
      },
      "execution_count": 3,
      "outputs": []
    },
    {
      "cell_type": "code",
      "source": [
        "df['index'] = df.index\n",
        "first_column = df.pop('index')\n",
        "df.insert(0, 'index', first_column)"
      ],
      "metadata": {
        "id": "oElE8x-xI1rL"
      },
      "execution_count": 4,
      "outputs": []
    },
    {
      "cell_type": "code",
      "source": [
        "df.head()"
      ],
      "metadata": {
        "colab": {
          "base_uri": "https://localhost:8080/",
          "height": 386
        },
        "id": "x41-_D8BmWIx",
        "outputId": "56125e9f-0f15-4746-f02b-89151fae2b1a"
      },
      "execution_count": 6,
      "outputs": [
        {
          "output_type": "execute_result",
          "data": {
            "text/plain": [
              "   index  region_id  region_type_id           region_name region_type  \\\n",
              "0      0        441               5    Brevard County, FL      county   \n",
              "1      1        441               5    Brevard County, FL      county   \n",
              "2      2        682               5    Caribou County, ID      county   \n",
              "3      3        155               5  Jefferson County, AL      county   \n",
              "4      4        441               5    Brevard County, FL      county   \n",
              "\n",
              "  period_begin  period_end duration  total_homes_sold  total_homes_sold_yoy  \\\n",
              "0   2021-04-12  2021-04-18  1 weeks             334.0              0.629268   \n",
              "1   2019-03-18  2019-03-24  1 weeks             248.0             -0.057034   \n",
              "2   2017-03-13  2017-03-19  1 weeks               1.0                   NaN   \n",
              "3   2018-03-26  2018-04-01  1 weeks             283.0              0.092664   \n",
              "4   2019-07-29  2019-08-04  1 weeks             364.0              0.120000   \n",
              "\n",
              "   ...  average_adjustment_average_homes_sold  adjusted_average_homes_sold  \\\n",
              "0  ...                                    NaN                        334.0   \n",
              "1  ...                                    NaN                        248.0   \n",
              "2  ...                                    NaN                          1.0   \n",
              "3  ...                                    NaN                        283.0   \n",
              "4  ...                                    NaN                        364.0   \n",
              "\n",
              "   average_adjustment_average_new_listings  adjusted_average_new_listings  \\\n",
              "0                                      NaN                          283.0   \n",
              "1                                      NaN                          291.0   \n",
              "2                                      NaN                            NaN   \n",
              "3                                      NaN                          216.0   \n",
              "4                                      NaN                          296.0   \n",
              "\n",
              "   average_adjustment_pending_sales  adjusted_pending_sales  \\\n",
              "0                               NaN                   284.0   \n",
              "1                               NaN                   147.0   \n",
              "2                               NaN                     NaN   \n",
              "3                               NaN                   182.0   \n",
              "4                               NaN                   219.0   \n",
              "\n",
              "   adjusted_average_homes_delisted_yoy  adjusted_average_homes_sold_yoy  \\\n",
              "0                            -0.512195                         0.629268   \n",
              "1                             0.000000                        -0.057034   \n",
              "2                                  NaN                              NaN   \n",
              "3                            -0.352941                         0.092664   \n",
              "4                             0.106383                         0.120000   \n",
              "\n",
              "   adjusted_average_new_listings_yoy  adjusted_pending_sales_yoy  \n",
              "0                           0.132000                    1.103704  \n",
              "1                          -0.115502                   -0.051613  \n",
              "2                                NaN                         NaN  \n",
              "3                          -0.175573                    0.300000  \n",
              "4                          -0.175487                    0.123077  \n",
              "\n",
              "[5 rows x 99 columns]"
            ],
            "text/html": [
              "\n",
              "  <div id=\"df-dcbe4a76-babd-44fd-b789-9ca9a34a6cd2\">\n",
              "    <div class=\"colab-df-container\">\n",
              "      <div>\n",
              "<style scoped>\n",
              "    .dataframe tbody tr th:only-of-type {\n",
              "        vertical-align: middle;\n",
              "    }\n",
              "\n",
              "    .dataframe tbody tr th {\n",
              "        vertical-align: top;\n",
              "    }\n",
              "\n",
              "    .dataframe thead th {\n",
              "        text-align: right;\n",
              "    }\n",
              "</style>\n",
              "<table border=\"1\" class=\"dataframe\">\n",
              "  <thead>\n",
              "    <tr style=\"text-align: right;\">\n",
              "      <th></th>\n",
              "      <th>index</th>\n",
              "      <th>region_id</th>\n",
              "      <th>region_type_id</th>\n",
              "      <th>region_name</th>\n",
              "      <th>region_type</th>\n",
              "      <th>period_begin</th>\n",
              "      <th>period_end</th>\n",
              "      <th>duration</th>\n",
              "      <th>total_homes_sold</th>\n",
              "      <th>total_homes_sold_yoy</th>\n",
              "      <th>...</th>\n",
              "      <th>average_adjustment_average_homes_sold</th>\n",
              "      <th>adjusted_average_homes_sold</th>\n",
              "      <th>average_adjustment_average_new_listings</th>\n",
              "      <th>adjusted_average_new_listings</th>\n",
              "      <th>average_adjustment_pending_sales</th>\n",
              "      <th>adjusted_pending_sales</th>\n",
              "      <th>adjusted_average_homes_delisted_yoy</th>\n",
              "      <th>adjusted_average_homes_sold_yoy</th>\n",
              "      <th>adjusted_average_new_listings_yoy</th>\n",
              "      <th>adjusted_pending_sales_yoy</th>\n",
              "    </tr>\n",
              "  </thead>\n",
              "  <tbody>\n",
              "    <tr>\n",
              "      <th>0</th>\n",
              "      <td>0</td>\n",
              "      <td>441</td>\n",
              "      <td>5</td>\n",
              "      <td>Brevard County, FL</td>\n",
              "      <td>county</td>\n",
              "      <td>2021-04-12</td>\n",
              "      <td>2021-04-18</td>\n",
              "      <td>1 weeks</td>\n",
              "      <td>334.0</td>\n",
              "      <td>0.629268</td>\n",
              "      <td>...</td>\n",
              "      <td>NaN</td>\n",
              "      <td>334.0</td>\n",
              "      <td>NaN</td>\n",
              "      <td>283.0</td>\n",
              "      <td>NaN</td>\n",
              "      <td>284.0</td>\n",
              "      <td>-0.512195</td>\n",
              "      <td>0.629268</td>\n",
              "      <td>0.132000</td>\n",
              "      <td>1.103704</td>\n",
              "    </tr>\n",
              "    <tr>\n",
              "      <th>1</th>\n",
              "      <td>1</td>\n",
              "      <td>441</td>\n",
              "      <td>5</td>\n",
              "      <td>Brevard County, FL</td>\n",
              "      <td>county</td>\n",
              "      <td>2019-03-18</td>\n",
              "      <td>2019-03-24</td>\n",
              "      <td>1 weeks</td>\n",
              "      <td>248.0</td>\n",
              "      <td>-0.057034</td>\n",
              "      <td>...</td>\n",
              "      <td>NaN</td>\n",
              "      <td>248.0</td>\n",
              "      <td>NaN</td>\n",
              "      <td>291.0</td>\n",
              "      <td>NaN</td>\n",
              "      <td>147.0</td>\n",
              "      <td>0.000000</td>\n",
              "      <td>-0.057034</td>\n",
              "      <td>-0.115502</td>\n",
              "      <td>-0.051613</td>\n",
              "    </tr>\n",
              "    <tr>\n",
              "      <th>2</th>\n",
              "      <td>2</td>\n",
              "      <td>682</td>\n",
              "      <td>5</td>\n",
              "      <td>Caribou County, ID</td>\n",
              "      <td>county</td>\n",
              "      <td>2017-03-13</td>\n",
              "      <td>2017-03-19</td>\n",
              "      <td>1 weeks</td>\n",
              "      <td>1.0</td>\n",
              "      <td>NaN</td>\n",
              "      <td>...</td>\n",
              "      <td>NaN</td>\n",
              "      <td>1.0</td>\n",
              "      <td>NaN</td>\n",
              "      <td>NaN</td>\n",
              "      <td>NaN</td>\n",
              "      <td>NaN</td>\n",
              "      <td>NaN</td>\n",
              "      <td>NaN</td>\n",
              "      <td>NaN</td>\n",
              "      <td>NaN</td>\n",
              "    </tr>\n",
              "    <tr>\n",
              "      <th>3</th>\n",
              "      <td>3</td>\n",
              "      <td>155</td>\n",
              "      <td>5</td>\n",
              "      <td>Jefferson County, AL</td>\n",
              "      <td>county</td>\n",
              "      <td>2018-03-26</td>\n",
              "      <td>2018-04-01</td>\n",
              "      <td>1 weeks</td>\n",
              "      <td>283.0</td>\n",
              "      <td>0.092664</td>\n",
              "      <td>...</td>\n",
              "      <td>NaN</td>\n",
              "      <td>283.0</td>\n",
              "      <td>NaN</td>\n",
              "      <td>216.0</td>\n",
              "      <td>NaN</td>\n",
              "      <td>182.0</td>\n",
              "      <td>-0.352941</td>\n",
              "      <td>0.092664</td>\n",
              "      <td>-0.175573</td>\n",
              "      <td>0.300000</td>\n",
              "    </tr>\n",
              "    <tr>\n",
              "      <th>4</th>\n",
              "      <td>4</td>\n",
              "      <td>441</td>\n",
              "      <td>5</td>\n",
              "      <td>Brevard County, FL</td>\n",
              "      <td>county</td>\n",
              "      <td>2019-07-29</td>\n",
              "      <td>2019-08-04</td>\n",
              "      <td>1 weeks</td>\n",
              "      <td>364.0</td>\n",
              "      <td>0.120000</td>\n",
              "      <td>...</td>\n",
              "      <td>NaN</td>\n",
              "      <td>364.0</td>\n",
              "      <td>NaN</td>\n",
              "      <td>296.0</td>\n",
              "      <td>NaN</td>\n",
              "      <td>219.0</td>\n",
              "      <td>0.106383</td>\n",
              "      <td>0.120000</td>\n",
              "      <td>-0.175487</td>\n",
              "      <td>0.123077</td>\n",
              "    </tr>\n",
              "  </tbody>\n",
              "</table>\n",
              "<p>5 rows × 99 columns</p>\n",
              "</div>\n",
              "      <button class=\"colab-df-convert\" onclick=\"convertToInteractive('df-dcbe4a76-babd-44fd-b789-9ca9a34a6cd2')\"\n",
              "              title=\"Convert this dataframe to an interactive table.\"\n",
              "              style=\"display:none;\">\n",
              "        \n",
              "  <svg xmlns=\"http://www.w3.org/2000/svg\" height=\"24px\"viewBox=\"0 0 24 24\"\n",
              "       width=\"24px\">\n",
              "    <path d=\"M0 0h24v24H0V0z\" fill=\"none\"/>\n",
              "    <path d=\"M18.56 5.44l.94 2.06.94-2.06 2.06-.94-2.06-.94-.94-2.06-.94 2.06-2.06.94zm-11 1L8.5 8.5l.94-2.06 2.06-.94-2.06-.94L8.5 2.5l-.94 2.06-2.06.94zm10 10l.94 2.06.94-2.06 2.06-.94-2.06-.94-.94-2.06-.94 2.06-2.06.94z\"/><path d=\"M17.41 7.96l-1.37-1.37c-.4-.4-.92-.59-1.43-.59-.52 0-1.04.2-1.43.59L10.3 9.45l-7.72 7.72c-.78.78-.78 2.05 0 2.83L4 21.41c.39.39.9.59 1.41.59.51 0 1.02-.2 1.41-.59l7.78-7.78 2.81-2.81c.8-.78.8-2.07 0-2.86zM5.41 20L4 18.59l7.72-7.72 1.47 1.35L5.41 20z\"/>\n",
              "  </svg>\n",
              "      </button>\n",
              "      \n",
              "  <style>\n",
              "    .colab-df-container {\n",
              "      display:flex;\n",
              "      flex-wrap:wrap;\n",
              "      gap: 12px;\n",
              "    }\n",
              "\n",
              "    .colab-df-convert {\n",
              "      background-color: #E8F0FE;\n",
              "      border: none;\n",
              "      border-radius: 50%;\n",
              "      cursor: pointer;\n",
              "      display: none;\n",
              "      fill: #1967D2;\n",
              "      height: 32px;\n",
              "      padding: 0 0 0 0;\n",
              "      width: 32px;\n",
              "    }\n",
              "\n",
              "    .colab-df-convert:hover {\n",
              "      background-color: #E2EBFA;\n",
              "      box-shadow: 0px 1px 2px rgba(60, 64, 67, 0.3), 0px 1px 3px 1px rgba(60, 64, 67, 0.15);\n",
              "      fill: #174EA6;\n",
              "    }\n",
              "\n",
              "    [theme=dark] .colab-df-convert {\n",
              "      background-color: #3B4455;\n",
              "      fill: #D2E3FC;\n",
              "    }\n",
              "\n",
              "    [theme=dark] .colab-df-convert:hover {\n",
              "      background-color: #434B5C;\n",
              "      box-shadow: 0px 1px 3px 1px rgba(0, 0, 0, 0.15);\n",
              "      filter: drop-shadow(0px 1px 2px rgba(0, 0, 0, 0.3));\n",
              "      fill: #FFFFFF;\n",
              "    }\n",
              "  </style>\n",
              "\n",
              "      <script>\n",
              "        const buttonEl =\n",
              "          document.querySelector('#df-dcbe4a76-babd-44fd-b789-9ca9a34a6cd2 button.colab-df-convert');\n",
              "        buttonEl.style.display =\n",
              "          google.colab.kernel.accessAllowed ? 'block' : 'none';\n",
              "\n",
              "        async function convertToInteractive(key) {\n",
              "          const element = document.querySelector('#df-dcbe4a76-babd-44fd-b789-9ca9a34a6cd2');\n",
              "          const dataTable =\n",
              "            await google.colab.kernel.invokeFunction('convertToInteractive',\n",
              "                                                     [key], {});\n",
              "          if (!dataTable) return;\n",
              "\n",
              "          const docLinkHtml = 'Like what you see? Visit the ' +\n",
              "            '<a target=\"_blank\" href=https://colab.research.google.com/notebooks/data_table.ipynb>data table notebook</a>'\n",
              "            + ' to learn more about interactive tables.';\n",
              "          element.innerHTML = '';\n",
              "          dataTable['output_type'] = 'display_data';\n",
              "          await google.colab.output.renderOutput(dataTable, element);\n",
              "          const docLink = document.createElement('div');\n",
              "          docLink.innerHTML = docLinkHtml;\n",
              "          element.appendChild(docLink);\n",
              "        }\n",
              "      </script>\n",
              "    </div>\n",
              "  </div>\n",
              "  "
            ]
          },
          "metadata": {},
          "execution_count": 6
        }
      ]
    },
    {
      "cell_type": "code",
      "source": [
        "shape = df.shape\n",
        "shape"
      ],
      "metadata": {
        "colab": {
          "base_uri": "https://localhost:8080/"
        },
        "id": "4-rH5nxUoNj0",
        "outputId": "46e945ed-9675-4555-e432-45baa65671ce"
      },
      "execution_count": 7,
      "outputs": [
        {
          "output_type": "execute_result",
          "data": {
            "text/plain": [
              "(1945431, 99)"
            ]
          },
          "metadata": {},
          "execution_count": 7
        }
      ]
    },
    {
      "cell_type": "code",
      "source": [
        "df.info()"
      ],
      "metadata": {
        "colab": {
          "base_uri": "https://localhost:8080/"
        },
        "id": "vavWPKGVouvn",
        "outputId": "0a5da681-c4b8-41a2-eee1-cb49b2cce8cd"
      },
      "execution_count": 8,
      "outputs": [
        {
          "output_type": "stream",
          "name": "stdout",
          "text": [
            "<class 'pandas.core.frame.DataFrame'>\n",
            "RangeIndex: 1945431 entries, 0 to 1945430\n",
            "Data columns (total 99 columns):\n",
            " #   Column                                        Dtype  \n",
            "---  ------                                        -----  \n",
            " 0   index                                         int64  \n",
            " 1   region_id                                     int64  \n",
            " 2   region_type_id                                int64  \n",
            " 3   region_name                                   object \n",
            " 4   region_type                                   object \n",
            " 5   period_begin                                  object \n",
            " 6   period_end                                    object \n",
            " 7   duration                                      object \n",
            " 8   total_homes_sold                              float64\n",
            " 9   total_homes_sold_yoy                          float64\n",
            " 10  average_homes_sold                            float64\n",
            " 11  average_homes_sold_yoy                        float64\n",
            " 12  total_homes_sold_with_price_drops             float64\n",
            " 13  total_homes_sold_with_price_drops_yoy         float64\n",
            " 14  average_homes_sold_with_price_drops           float64\n",
            " 15  average_homes_sold_with_price_drops_yoy       float64\n",
            " 16  percent_homes_sold_with_price_drops           float64\n",
            " 17  percent_homes_sold_with_price_drops_yoy       float64\n",
            " 18  median_sale_price                             float64\n",
            " 19  median_sale_price_yoy                         float64\n",
            " 20  median_sale_ppsf                              float64\n",
            " 21  median_sale_ppsf_yoy                          float64\n",
            " 22  median_days_to_close                          float64\n",
            " 23  median_days_to_close_yoy                      float64\n",
            " 24  price_drops                                   float64\n",
            " 25  price_drops_yoy                               float64\n",
            " 26  percent_active_listings_with_price_drops      float64\n",
            " 27  percent_active_listings_with_price_drops_yoy  float64\n",
            " 28  pending_sales                                 float64\n",
            " 29  pending_sales_yoy                             float64\n",
            " 30  median_pending_sqft                           float64\n",
            " 31  median_pending_sqft_yoy                       float64\n",
            " 32  off_market_in_two_weeks                       float64\n",
            " 33  off_market_in_two_weeks_yoy                   float64\n",
            " 34  off_market_in_one_week                        float64\n",
            " 35  off_market_in_one_week_yoy                    float64\n",
            " 36  percent_off_market_in_two_weeks               float64\n",
            " 37  percent_off_market_in_two_weeks_yoy           float64\n",
            " 38  percent_off_market_in_one_week                float64\n",
            " 39  percent_off_market_in_one_week_yoy            float64\n",
            " 40  total_new_listings                            float64\n",
            " 41  total_new_listings_yoy                        float64\n",
            " 42  average_new_listings                          float64\n",
            " 43  average_new_listings_yoy                      float64\n",
            " 44  median_new_listing_price                      float64\n",
            " 45  median_new_listing_price_yoy                  float64\n",
            " 46  median_new_listing_ppsf                       float64\n",
            " 47  median_new_listing_ppsf_yoy                   float64\n",
            " 48  inventory                                     float64\n",
            " 49  inventory_yoy                                 float64\n",
            " 50  total_active_listings                         float64\n",
            " 51  total_active_listings_yoy                     float64\n",
            " 52  active_listings                               float64\n",
            " 53  active_listings_yoy                           float64\n",
            " 54  age_of_inventory                              float64\n",
            " 55  age_of_inventory_yoy                          float64\n",
            " 56  homes_delisted                                float64\n",
            " 57  homes_delisted_yoy                            float64\n",
            " 58  percent_active_listings_delisted              float64\n",
            " 59  percent_active_listings_delisted_yoy          float64\n",
            " 60  median_active_list_price                      float64\n",
            " 61  median_active_list_price_yoy                  float64\n",
            " 62  median_active_list_ppsf                       float64\n",
            " 63  median_active_list_ppsf_yoy                   float64\n",
            " 64  average_of_median_list_price_amount           float64\n",
            " 65  average_of_median_list_price_amount_yoy       float64\n",
            " 66  average_of_median_offer_price_amount          float64\n",
            " 67  average_of_median_offer_price_amount_yoy      float64\n",
            " 68  avg_offer_to_list                             float64\n",
            " 69  avg_offer_to_list_yoy                         float64\n",
            " 70  average_sale_to_list_ratio                    float64\n",
            " 71  average_sale_to_list_ratio_yoy                float64\n",
            " 72  median_days_on_market                         float64\n",
            " 73  median_days_on_market_yoy                     float64\n",
            " 74  pending_sales_to_sales_ratio                  float64\n",
            " 75  pending_sales_to_sales_ratio_yoy              float64\n",
            " 76  months_of_supply                              float64\n",
            " 77  months_of_supply_yoy                          float64\n",
            " 78  average_pending_sales_listing_updates         float64\n",
            " 79  average_pending_sales_listing_updates_yoy     float64\n",
            " 80  percent_total_price_drops_of_inventory        float64\n",
            " 81  percent_total_price_drops_of_inventory_yoy    float64\n",
            " 82  percent_homes_sold_above_list                 float64\n",
            " 83  percent_homes_sold_above_list_yoy             float64\n",
            " 84  price_drop_percent_of_old_list_price          float64\n",
            " 85  price_drop_percent_of_old_list_price_yoy      float64\n",
            " 86  last_updated                                  object \n",
            " 87  average_adjustment_average_homes_delisted     float64\n",
            " 88  adjusted_average_homes_delisted               float64\n",
            " 89  average_adjustment_average_homes_sold         float64\n",
            " 90  adjusted_average_homes_sold                   float64\n",
            " 91  average_adjustment_average_new_listings       float64\n",
            " 92  adjusted_average_new_listings                 float64\n",
            " 93  average_adjustment_pending_sales              float64\n",
            " 94  adjusted_pending_sales                        float64\n",
            " 95  adjusted_average_homes_delisted_yoy           float64\n",
            " 96  adjusted_average_homes_sold_yoy               float64\n",
            " 97  adjusted_average_new_listings_yoy             float64\n",
            " 98  adjusted_pending_sales_yoy                    float64\n",
            "dtypes: float64(90), int64(3), object(6)\n",
            "memory usage: 1.4+ GB\n"
          ]
        }
      ]
    },
    {
      "cell_type": "code",
      "source": [
        "df.isnull().sum()"
      ],
      "metadata": {
        "colab": {
          "base_uri": "https://localhost:8080/"
        },
        "id": "67ADsxdGnnUv",
        "outputId": "233778c3-f901-466e-adcc-e21789943379"
      },
      "execution_count": 9,
      "outputs": [
        {
          "output_type": "execute_result",
          "data": {
            "text/plain": [
              "index                                       0\n",
              "region_id                                   0\n",
              "region_type_id                              0\n",
              "region_name                                 0\n",
              "region_type                                 0\n",
              "                                        ...  \n",
              "adjusted_pending_sales                 387218\n",
              "adjusted_average_homes_delisted_yoy    719549\n",
              "adjusted_average_homes_sold_yoy        324949\n",
              "adjusted_average_new_listings_yoy      284697\n",
              "adjusted_pending_sales_yoy             510427\n",
              "Length: 99, dtype: int64"
            ]
          },
          "metadata": {},
          "execution_count": 9
        }
      ]
    },
    {
      "cell_type": "code",
      "source": [
        "null1 = df.isnull().sum().sum()\n",
        "print(\"Total number of Missing Values:\",null1)"
      ],
      "metadata": {
        "colab": {
          "base_uri": "https://localhost:8080/"
        },
        "id": "CW2dpgt2tvOA",
        "outputId": "c36a6689-6cf6-4386-8449-e7e77a761d05"
      },
      "execution_count": 10,
      "outputs": [
        {
          "output_type": "stream",
          "name": "stdout",
          "text": [
            "Total number of Missing Values: 48780668\n"
          ]
        }
      ]
    },
    {
      "cell_type": "code",
      "source": [
        "row_thresh = int(shape[1]/2)  # Divide the number of rows by 2\n",
        "col_thresh = int(shape[0]/2)  # Divide the number of columns by 2"
      ],
      "metadata": {
        "id": "urkF_YO7x7Ri"
      },
      "execution_count": 11,
      "outputs": []
    },
    {
      "cell_type": "code",
      "source": [
        "df.dropna(thresh = row_thresh, inplace= True )"
      ],
      "metadata": {
        "id": "Wyk1s8ZTvfFY"
      },
      "execution_count": 12,
      "outputs": []
    },
    {
      "cell_type": "code",
      "source": [
        "df.dropna(thresh = col_thresh ,axis = 1, inplace= True)"
      ],
      "metadata": {
        "id": "e0LuHiLfuDmX"
      },
      "execution_count": 13,
      "outputs": []
    },
    {
      "cell_type": "code",
      "source": [
        "null2 = df.isnull().sum().sum()\n",
        "null2"
      ],
      "metadata": {
        "colab": {
          "base_uri": "https://localhost:8080/"
        },
        "id": "FycDL8B-w_sz",
        "outputId": "45eba50e-6391-487e-d0e5-7d4a08d5ce64"
      },
      "execution_count": 14,
      "outputs": [
        {
          "output_type": "execute_result",
          "data": {
            "text/plain": [
              "11761078"
            ]
          },
          "metadata": {},
          "execution_count": 14
        }
      ]
    },
    {
      "cell_type": "code",
      "source": [
        "cols_rem_nan = df.columns\n",
        "cols_rem_nan"
      ],
      "metadata": {
        "colab": {
          "base_uri": "https://localhost:8080/"
        },
        "id": "zBfkdxCYFpyW",
        "outputId": "905056f8-4592-4640-f569-73b5f821fc19"
      },
      "execution_count": 15,
      "outputs": [
        {
          "output_type": "execute_result",
          "data": {
            "text/plain": [
              "Index(['index', 'region_id', 'region_type_id', 'region_name', 'region_type',\n",
              "       'period_begin', 'period_end', 'duration', 'total_homes_sold',\n",
              "       'total_homes_sold_yoy', 'average_homes_sold', 'average_homes_sold_yoy',\n",
              "       'total_homes_sold_with_price_drops',\n",
              "       'total_homes_sold_with_price_drops_yoy',\n",
              "       'average_homes_sold_with_price_drops',\n",
              "       'average_homes_sold_with_price_drops_yoy',\n",
              "       'percent_homes_sold_with_price_drops',\n",
              "       'percent_homes_sold_with_price_drops_yoy', 'median_sale_price',\n",
              "       'median_sale_price_yoy', 'median_sale_ppsf', 'median_sale_ppsf_yoy',\n",
              "       'median_days_to_close', 'median_days_to_close_yoy', 'price_drops',\n",
              "       'price_drops_yoy', 'percent_active_listings_with_price_drops',\n",
              "       'percent_active_listings_with_price_drops_yoy', 'pending_sales',\n",
              "       'pending_sales_yoy', 'median_pending_sqft', 'median_pending_sqft_yoy',\n",
              "       'off_market_in_two_weeks', 'off_market_in_one_week',\n",
              "       'percent_off_market_in_two_weeks',\n",
              "       'percent_off_market_in_two_weeks_yoy', 'percent_off_market_in_one_week',\n",
              "       'percent_off_market_in_one_week_yoy', 'total_new_listings',\n",
              "       'total_new_listings_yoy', 'average_new_listings',\n",
              "       'average_new_listings_yoy', 'median_new_listing_price',\n",
              "       'median_new_listing_price_yoy', 'median_new_listing_ppsf',\n",
              "       'median_new_listing_ppsf_yoy', 'inventory', 'inventory_yoy',\n",
              "       'total_active_listings', 'total_active_listings_yoy', 'active_listings',\n",
              "       'active_listings_yoy', 'age_of_inventory', 'age_of_inventory_yoy',\n",
              "       'homes_delisted', 'homes_delisted_yoy',\n",
              "       'percent_active_listings_delisted',\n",
              "       'percent_active_listings_delisted_yoy', 'median_active_list_price',\n",
              "       'median_active_list_price_yoy', 'median_active_list_ppsf',\n",
              "       'median_active_list_ppsf_yoy', 'average_sale_to_list_ratio',\n",
              "       'average_sale_to_list_ratio_yoy', 'median_days_on_market',\n",
              "       'median_days_on_market_yoy', 'pending_sales_to_sales_ratio',\n",
              "       'pending_sales_to_sales_ratio_yoy', 'months_of_supply',\n",
              "       'months_of_supply_yoy', 'average_pending_sales_listing_updates',\n",
              "       'average_pending_sales_listing_updates_yoy',\n",
              "       'percent_total_price_drops_of_inventory',\n",
              "       'percent_total_price_drops_of_inventory_yoy',\n",
              "       'percent_homes_sold_above_list', 'percent_homes_sold_above_list_yoy',\n",
              "       'price_drop_percent_of_old_list_price',\n",
              "       'price_drop_percent_of_old_list_price_yoy', 'last_updated',\n",
              "       'adjusted_average_homes_delisted', 'adjusted_average_homes_sold',\n",
              "       'adjusted_average_new_listings', 'adjusted_pending_sales',\n",
              "       'adjusted_average_homes_delisted_yoy',\n",
              "       'adjusted_average_homes_sold_yoy', 'adjusted_average_new_listings_yoy',\n",
              "       'adjusted_pending_sales_yoy'],\n",
              "      dtype='object')"
            ]
          },
          "metadata": {},
          "execution_count": 15
        }
      ]
    },
    {
      "cell_type": "code",
      "source": [
        "df.shape"
      ],
      "metadata": {
        "colab": {
          "base_uri": "https://localhost:8080/"
        },
        "id": "62-1ZbKXFYxo",
        "outputId": "e1ea3dd4-66c7-4892-f091-cd28989a0dd1"
      },
      "execution_count": 16,
      "outputs": [
        {
          "output_type": "execute_result",
          "data": {
            "text/plain": [
              "(1653419, 87)"
            ]
          },
          "metadata": {},
          "execution_count": 16
        }
      ]
    },
    {
      "cell_type": "code",
      "source": [
        "print(\"Number of missing values removed from the dataframe:\",null1-null2)"
      ],
      "metadata": {
        "colab": {
          "base_uri": "https://localhost:8080/"
        },
        "id": "cIfcVQuoxV3O",
        "outputId": "c03f5266-c41d-4a9e-fe63-3750b202f89f"
      },
      "execution_count": 17,
      "outputs": [
        {
          "output_type": "stream",
          "name": "stdout",
          "text": [
            "Number of missing values removed from the dataframe: 37019590\n"
          ]
        }
      ]
    },
    {
      "cell_type": "markdown",
      "source": [
        "##Handling Missing Values:"
      ],
      "metadata": {
        "id": "sSw65koY7nKF"
      }
    },
    {
      "cell_type": "markdown",
      "source": [
        "###Handling missing numerical values:\n"
      ],
      "metadata": {
        "id": "_fDqIDA4YpEL"
      }
    },
    {
      "cell_type": "code",
      "source": [
        "numerics = ['int16', 'int32', 'int64', 'float16', 'float32', 'float64']\n",
        "numeric_df = df.select_dtypes(include=numerics)"
      ],
      "metadata": {
        "id": "uMerTZYA3brx"
      },
      "execution_count": 18,
      "outputs": []
    },
    {
      "cell_type": "code",
      "source": [
        "numeric_cols = numeric_df.columns\n",
        "numeric_cols"
      ],
      "metadata": {
        "colab": {
          "base_uri": "https://localhost:8080/"
        },
        "id": "NwUPgIbk9Jiy",
        "outputId": "d4ab0c31-a0ab-46a1-e1ce-c399a1eaf257"
      },
      "execution_count": 19,
      "outputs": [
        {
          "output_type": "execute_result",
          "data": {
            "text/plain": [
              "Index(['index', 'region_id', 'region_type_id', 'total_homes_sold',\n",
              "       'total_homes_sold_yoy', 'average_homes_sold', 'average_homes_sold_yoy',\n",
              "       'total_homes_sold_with_price_drops',\n",
              "       'total_homes_sold_with_price_drops_yoy',\n",
              "       'average_homes_sold_with_price_drops',\n",
              "       'average_homes_sold_with_price_drops_yoy',\n",
              "       'percent_homes_sold_with_price_drops',\n",
              "       'percent_homes_sold_with_price_drops_yoy', 'median_sale_price',\n",
              "       'median_sale_price_yoy', 'median_sale_ppsf', 'median_sale_ppsf_yoy',\n",
              "       'median_days_to_close', 'median_days_to_close_yoy', 'price_drops',\n",
              "       'price_drops_yoy', 'percent_active_listings_with_price_drops',\n",
              "       'percent_active_listings_with_price_drops_yoy', 'pending_sales',\n",
              "       'pending_sales_yoy', 'median_pending_sqft', 'median_pending_sqft_yoy',\n",
              "       'off_market_in_two_weeks', 'off_market_in_one_week',\n",
              "       'percent_off_market_in_two_weeks',\n",
              "       'percent_off_market_in_two_weeks_yoy', 'percent_off_market_in_one_week',\n",
              "       'percent_off_market_in_one_week_yoy', 'total_new_listings',\n",
              "       'total_new_listings_yoy', 'average_new_listings',\n",
              "       'average_new_listings_yoy', 'median_new_listing_price',\n",
              "       'median_new_listing_price_yoy', 'median_new_listing_ppsf',\n",
              "       'median_new_listing_ppsf_yoy', 'inventory', 'inventory_yoy',\n",
              "       'total_active_listings', 'total_active_listings_yoy', 'active_listings',\n",
              "       'active_listings_yoy', 'age_of_inventory', 'age_of_inventory_yoy',\n",
              "       'homes_delisted', 'homes_delisted_yoy',\n",
              "       'percent_active_listings_delisted',\n",
              "       'percent_active_listings_delisted_yoy', 'median_active_list_price',\n",
              "       'median_active_list_price_yoy', 'median_active_list_ppsf',\n",
              "       'median_active_list_ppsf_yoy', 'average_sale_to_list_ratio',\n",
              "       'average_sale_to_list_ratio_yoy', 'median_days_on_market',\n",
              "       'median_days_on_market_yoy', 'pending_sales_to_sales_ratio',\n",
              "       'pending_sales_to_sales_ratio_yoy', 'months_of_supply',\n",
              "       'months_of_supply_yoy', 'average_pending_sales_listing_updates',\n",
              "       'average_pending_sales_listing_updates_yoy',\n",
              "       'percent_total_price_drops_of_inventory',\n",
              "       'percent_total_price_drops_of_inventory_yoy',\n",
              "       'percent_homes_sold_above_list', 'percent_homes_sold_above_list_yoy',\n",
              "       'price_drop_percent_of_old_list_price',\n",
              "       'price_drop_percent_of_old_list_price_yoy',\n",
              "       'adjusted_average_homes_delisted', 'adjusted_average_homes_sold',\n",
              "       'adjusted_average_new_listings', 'adjusted_pending_sales',\n",
              "       'adjusted_average_homes_delisted_yoy',\n",
              "       'adjusted_average_homes_sold_yoy', 'adjusted_average_new_listings_yoy',\n",
              "       'adjusted_pending_sales_yoy'],\n",
              "      dtype='object')"
            ]
          },
          "metadata": {},
          "execution_count": 19
        }
      ]
    },
    {
      "cell_type": "code",
      "source": [
        "print(\"Number of Columns of Numeric data type:\",len(numeric_cols))\n",
        "print(\"Number of Columns of Object data type:\",len(cols_rem_nan) - len(numeric_cols))"
      ],
      "metadata": {
        "colab": {
          "base_uri": "https://localhost:8080/"
        },
        "id": "M6nx3rCNDQml",
        "outputId": "a0f720b4-e3bb-4664-e770-a15da950674d"
      },
      "execution_count": 20,
      "outputs": [
        {
          "output_type": "stream",
          "name": "stdout",
          "text": [
            "Number of Columns of Numeric data type: 81\n",
            "Number of Columns of Object data type: 6\n"
          ]
        }
      ]
    },
    {
      "cell_type": "code",
      "source": [
        "res = list((Counter(cols_rem_nan)-Counter(numeric_cols)).elements())\n",
        "res"
      ],
      "metadata": {
        "colab": {
          "base_uri": "https://localhost:8080/"
        },
        "id": "swhSFWaJ8_CJ",
        "outputId": "d1faeb5b-f6b8-49eb-b709-9bd2b12c2c85"
      },
      "execution_count": 21,
      "outputs": [
        {
          "output_type": "execute_result",
          "data": {
            "text/plain": [
              "['region_name',\n",
              " 'region_type',\n",
              " 'period_begin',\n",
              " 'period_end',\n",
              " 'duration',\n",
              " 'last_updated']"
            ]
          },
          "metadata": {},
          "execution_count": 21
        }
      ]
    },
    {
      "cell_type": "code",
      "source": [
        "imputer = SimpleImputer(missing_values=np.nan, strategy='mean')"
      ],
      "metadata": {
        "id": "Li0XN_tQzoay"
      },
      "execution_count": 22,
      "outputs": []
    },
    {
      "cell_type": "code",
      "source": [
        "imputer = imputer.fit(numeric_df)\n",
        "imputed = imputer.transform(numeric_df.values)\n",
        "print(imputed)"
      ],
      "metadata": {
        "colab": {
          "base_uri": "https://localhost:8080/"
        },
        "id": "ELu2lymy1jaK",
        "outputId": "33d2c571-491f-4212-9e07-5fffa716e33d"
      },
      "execution_count": 23,
      "outputs": [
        {
          "output_type": "stream",
          "name": "stderr",
          "text": [
            "/usr/local/lib/python3.7/dist-packages/sklearn/base.py:451: UserWarning: X does not have valid feature names, but SimpleImputer was fitted with feature names\n",
            "  \"X does not have valid feature names, but\"\n"
          ]
        },
        {
          "output_type": "stream",
          "name": "stdout",
          "text": [
            "[[ 0.00000000e+00  4.41000000e+02  5.00000000e+00 ...  6.29268293e-01\n",
            "   1.32000000e-01  1.10370370e+00]\n",
            " [ 1.00000000e+00  4.41000000e+02  5.00000000e+00 ... -5.70342205e-02\n",
            "  -1.15501520e-01 -5.16129032e-02]\n",
            " [ 3.00000000e+00  1.55000000e+02  5.00000000e+00 ...  9.26640927e-02\n",
            "  -1.75572519e-01  3.00000000e-01]\n",
            " ...\n",
            " [ 1.94542800e+06  2.96500000e+03  5.00000000e+00 ...  3.15614618e-01\n",
            "   3.44647520e-01  5.33088235e-01]\n",
            " [ 1.94542900e+06  2.77600000e+03  5.00000000e+00 ...  2.27526708e-01\n",
            "   0.00000000e+00  3.62764810e-01]\n",
            " [ 1.94543000e+06  3.37000000e+04 -2.00000000e+00 ...  8.84955752e-02\n",
            "   5.04672897e-01  1.49425287e-01]]\n"
          ]
        }
      ]
    },
    {
      "cell_type": "code",
      "source": [
        "imputed_df = pd.DataFrame(imputed, columns = numeric_df.columns)"
      ],
      "metadata": {
        "id": "9cQKvwtQ37Th"
      },
      "execution_count": 24,
      "outputs": []
    },
    {
      "cell_type": "code",
      "source": [
        "imputed_df.head()"
      ],
      "metadata": {
        "colab": {
          "base_uri": "https://localhost:8080/",
          "height": 299
        },
        "id": "-DJEKhYYIh05",
        "outputId": "42fec7de-a309-4c29-edc8-8c67f7a22ff3"
      },
      "execution_count": 25,
      "outputs": [
        {
          "output_type": "execute_result",
          "data": {
            "text/plain": [
              "   index  region_id  region_type_id  total_homes_sold  total_homes_sold_yoy  \\\n",
              "0    0.0      441.0             5.0             334.0              0.629268   \n",
              "1    1.0      441.0             5.0             248.0             -0.057034   \n",
              "2    3.0      155.0             5.0             283.0              0.092664   \n",
              "3    4.0      441.0             5.0             364.0              0.120000   \n",
              "4    5.0      441.0             5.0             270.0              0.054688   \n",
              "\n",
              "   average_homes_sold  average_homes_sold_yoy  \\\n",
              "0               334.0                0.629268   \n",
              "1               248.0               -0.057034   \n",
              "2               283.0                0.092664   \n",
              "3               364.0                0.120000   \n",
              "4               270.0                0.054688   \n",
              "\n",
              "   total_homes_sold_with_price_drops  total_homes_sold_with_price_drops_yoy  \\\n",
              "0                               66.0                               0.269231   \n",
              "1                                0.0                              -1.000000   \n",
              "2                               83.0                               0.257576   \n",
              "3                                2.0                               0.000000   \n",
              "4                               64.0                               0.066667   \n",
              "\n",
              "   average_homes_sold_with_price_drops  ...  \\\n",
              "0                                 66.0  ...   \n",
              "1                                  0.0  ...   \n",
              "2                                 83.0  ...   \n",
              "3                                  2.0  ...   \n",
              "4                                 64.0  ...   \n",
              "\n",
              "   price_drop_percent_of_old_list_price  \\\n",
              "0                              0.045844   \n",
              "1                              0.030491   \n",
              "2                              0.078859   \n",
              "3                              0.048337   \n",
              "4                              0.040798   \n",
              "\n",
              "   price_drop_percent_of_old_list_price_yoy  adjusted_average_homes_delisted  \\\n",
              "0                                  0.010826                             20.0   \n",
              "1                                 -0.017128                             40.0   \n",
              "2                                  0.019661                             33.0   \n",
              "3                                 -0.000526                             52.0   \n",
              "4                                  0.005608                             28.0   \n",
              "\n",
              "   adjusted_average_homes_sold  adjusted_average_new_listings  \\\n",
              "0                        334.0                          283.0   \n",
              "1                        248.0                          291.0   \n",
              "2                        283.0                          216.0   \n",
              "3                        364.0                          296.0   \n",
              "4                        270.0                          330.0   \n",
              "\n",
              "   adjusted_pending_sales  adjusted_average_homes_delisted_yoy  \\\n",
              "0                   284.0                            -0.512195   \n",
              "1                   147.0                             0.000000   \n",
              "2                   182.0                            -0.352941   \n",
              "3                   219.0                             0.106383   \n",
              "4                   243.0                            -0.096774   \n",
              "\n",
              "   adjusted_average_homes_sold_yoy  adjusted_average_new_listings_yoy  \\\n",
              "0                         0.629268                           0.132000   \n",
              "1                        -0.057034                          -0.115502   \n",
              "2                         0.092664                          -0.175573   \n",
              "3                         0.120000                          -0.175487   \n",
              "4                         0.054688                           0.141869   \n",
              "\n",
              "   adjusted_pending_sales_yoy  \n",
              "0                    1.103704  \n",
              "1                   -0.051613  \n",
              "2                    0.300000  \n",
              "3                    0.123077  \n",
              "4                    0.162679  \n",
              "\n",
              "[5 rows x 81 columns]"
            ],
            "text/html": [
              "\n",
              "  <div id=\"df-280bc5be-fbfe-40a3-ade4-ab2097e0b6ff\">\n",
              "    <div class=\"colab-df-container\">\n",
              "      <div>\n",
              "<style scoped>\n",
              "    .dataframe tbody tr th:only-of-type {\n",
              "        vertical-align: middle;\n",
              "    }\n",
              "\n",
              "    .dataframe tbody tr th {\n",
              "        vertical-align: top;\n",
              "    }\n",
              "\n",
              "    .dataframe thead th {\n",
              "        text-align: right;\n",
              "    }\n",
              "</style>\n",
              "<table border=\"1\" class=\"dataframe\">\n",
              "  <thead>\n",
              "    <tr style=\"text-align: right;\">\n",
              "      <th></th>\n",
              "      <th>index</th>\n",
              "      <th>region_id</th>\n",
              "      <th>region_type_id</th>\n",
              "      <th>total_homes_sold</th>\n",
              "      <th>total_homes_sold_yoy</th>\n",
              "      <th>average_homes_sold</th>\n",
              "      <th>average_homes_sold_yoy</th>\n",
              "      <th>total_homes_sold_with_price_drops</th>\n",
              "      <th>total_homes_sold_with_price_drops_yoy</th>\n",
              "      <th>average_homes_sold_with_price_drops</th>\n",
              "      <th>...</th>\n",
              "      <th>price_drop_percent_of_old_list_price</th>\n",
              "      <th>price_drop_percent_of_old_list_price_yoy</th>\n",
              "      <th>adjusted_average_homes_delisted</th>\n",
              "      <th>adjusted_average_homes_sold</th>\n",
              "      <th>adjusted_average_new_listings</th>\n",
              "      <th>adjusted_pending_sales</th>\n",
              "      <th>adjusted_average_homes_delisted_yoy</th>\n",
              "      <th>adjusted_average_homes_sold_yoy</th>\n",
              "      <th>adjusted_average_new_listings_yoy</th>\n",
              "      <th>adjusted_pending_sales_yoy</th>\n",
              "    </tr>\n",
              "  </thead>\n",
              "  <tbody>\n",
              "    <tr>\n",
              "      <th>0</th>\n",
              "      <td>0.0</td>\n",
              "      <td>441.0</td>\n",
              "      <td>5.0</td>\n",
              "      <td>334.0</td>\n",
              "      <td>0.629268</td>\n",
              "      <td>334.0</td>\n",
              "      <td>0.629268</td>\n",
              "      <td>66.0</td>\n",
              "      <td>0.269231</td>\n",
              "      <td>66.0</td>\n",
              "      <td>...</td>\n",
              "      <td>0.045844</td>\n",
              "      <td>0.010826</td>\n",
              "      <td>20.0</td>\n",
              "      <td>334.0</td>\n",
              "      <td>283.0</td>\n",
              "      <td>284.0</td>\n",
              "      <td>-0.512195</td>\n",
              "      <td>0.629268</td>\n",
              "      <td>0.132000</td>\n",
              "      <td>1.103704</td>\n",
              "    </tr>\n",
              "    <tr>\n",
              "      <th>1</th>\n",
              "      <td>1.0</td>\n",
              "      <td>441.0</td>\n",
              "      <td>5.0</td>\n",
              "      <td>248.0</td>\n",
              "      <td>-0.057034</td>\n",
              "      <td>248.0</td>\n",
              "      <td>-0.057034</td>\n",
              "      <td>0.0</td>\n",
              "      <td>-1.000000</td>\n",
              "      <td>0.0</td>\n",
              "      <td>...</td>\n",
              "      <td>0.030491</td>\n",
              "      <td>-0.017128</td>\n",
              "      <td>40.0</td>\n",
              "      <td>248.0</td>\n",
              "      <td>291.0</td>\n",
              "      <td>147.0</td>\n",
              "      <td>0.000000</td>\n",
              "      <td>-0.057034</td>\n",
              "      <td>-0.115502</td>\n",
              "      <td>-0.051613</td>\n",
              "    </tr>\n",
              "    <tr>\n",
              "      <th>2</th>\n",
              "      <td>3.0</td>\n",
              "      <td>155.0</td>\n",
              "      <td>5.0</td>\n",
              "      <td>283.0</td>\n",
              "      <td>0.092664</td>\n",
              "      <td>283.0</td>\n",
              "      <td>0.092664</td>\n",
              "      <td>83.0</td>\n",
              "      <td>0.257576</td>\n",
              "      <td>83.0</td>\n",
              "      <td>...</td>\n",
              "      <td>0.078859</td>\n",
              "      <td>0.019661</td>\n",
              "      <td>33.0</td>\n",
              "      <td>283.0</td>\n",
              "      <td>216.0</td>\n",
              "      <td>182.0</td>\n",
              "      <td>-0.352941</td>\n",
              "      <td>0.092664</td>\n",
              "      <td>-0.175573</td>\n",
              "      <td>0.300000</td>\n",
              "    </tr>\n",
              "    <tr>\n",
              "      <th>3</th>\n",
              "      <td>4.0</td>\n",
              "      <td>441.0</td>\n",
              "      <td>5.0</td>\n",
              "      <td>364.0</td>\n",
              "      <td>0.120000</td>\n",
              "      <td>364.0</td>\n",
              "      <td>0.120000</td>\n",
              "      <td>2.0</td>\n",
              "      <td>0.000000</td>\n",
              "      <td>2.0</td>\n",
              "      <td>...</td>\n",
              "      <td>0.048337</td>\n",
              "      <td>-0.000526</td>\n",
              "      <td>52.0</td>\n",
              "      <td>364.0</td>\n",
              "      <td>296.0</td>\n",
              "      <td>219.0</td>\n",
              "      <td>0.106383</td>\n",
              "      <td>0.120000</td>\n",
              "      <td>-0.175487</td>\n",
              "      <td>0.123077</td>\n",
              "    </tr>\n",
              "    <tr>\n",
              "      <th>4</th>\n",
              "      <td>5.0</td>\n",
              "      <td>441.0</td>\n",
              "      <td>5.0</td>\n",
              "      <td>270.0</td>\n",
              "      <td>0.054688</td>\n",
              "      <td>270.0</td>\n",
              "      <td>0.054688</td>\n",
              "      <td>64.0</td>\n",
              "      <td>0.066667</td>\n",
              "      <td>64.0</td>\n",
              "      <td>...</td>\n",
              "      <td>0.040798</td>\n",
              "      <td>0.005608</td>\n",
              "      <td>28.0</td>\n",
              "      <td>270.0</td>\n",
              "      <td>330.0</td>\n",
              "      <td>243.0</td>\n",
              "      <td>-0.096774</td>\n",
              "      <td>0.054688</td>\n",
              "      <td>0.141869</td>\n",
              "      <td>0.162679</td>\n",
              "    </tr>\n",
              "  </tbody>\n",
              "</table>\n",
              "<p>5 rows × 81 columns</p>\n",
              "</div>\n",
              "      <button class=\"colab-df-convert\" onclick=\"convertToInteractive('df-280bc5be-fbfe-40a3-ade4-ab2097e0b6ff')\"\n",
              "              title=\"Convert this dataframe to an interactive table.\"\n",
              "              style=\"display:none;\">\n",
              "        \n",
              "  <svg xmlns=\"http://www.w3.org/2000/svg\" height=\"24px\"viewBox=\"0 0 24 24\"\n",
              "       width=\"24px\">\n",
              "    <path d=\"M0 0h24v24H0V0z\" fill=\"none\"/>\n",
              "    <path d=\"M18.56 5.44l.94 2.06.94-2.06 2.06-.94-2.06-.94-.94-2.06-.94 2.06-2.06.94zm-11 1L8.5 8.5l.94-2.06 2.06-.94-2.06-.94L8.5 2.5l-.94 2.06-2.06.94zm10 10l.94 2.06.94-2.06 2.06-.94-2.06-.94-.94-2.06-.94 2.06-2.06.94z\"/><path d=\"M17.41 7.96l-1.37-1.37c-.4-.4-.92-.59-1.43-.59-.52 0-1.04.2-1.43.59L10.3 9.45l-7.72 7.72c-.78.78-.78 2.05 0 2.83L4 21.41c.39.39.9.59 1.41.59.51 0 1.02-.2 1.41-.59l7.78-7.78 2.81-2.81c.8-.78.8-2.07 0-2.86zM5.41 20L4 18.59l7.72-7.72 1.47 1.35L5.41 20z\"/>\n",
              "  </svg>\n",
              "      </button>\n",
              "      \n",
              "  <style>\n",
              "    .colab-df-container {\n",
              "      display:flex;\n",
              "      flex-wrap:wrap;\n",
              "      gap: 12px;\n",
              "    }\n",
              "\n",
              "    .colab-df-convert {\n",
              "      background-color: #E8F0FE;\n",
              "      border: none;\n",
              "      border-radius: 50%;\n",
              "      cursor: pointer;\n",
              "      display: none;\n",
              "      fill: #1967D2;\n",
              "      height: 32px;\n",
              "      padding: 0 0 0 0;\n",
              "      width: 32px;\n",
              "    }\n",
              "\n",
              "    .colab-df-convert:hover {\n",
              "      background-color: #E2EBFA;\n",
              "      box-shadow: 0px 1px 2px rgba(60, 64, 67, 0.3), 0px 1px 3px 1px rgba(60, 64, 67, 0.15);\n",
              "      fill: #174EA6;\n",
              "    }\n",
              "\n",
              "    [theme=dark] .colab-df-convert {\n",
              "      background-color: #3B4455;\n",
              "      fill: #D2E3FC;\n",
              "    }\n",
              "\n",
              "    [theme=dark] .colab-df-convert:hover {\n",
              "      background-color: #434B5C;\n",
              "      box-shadow: 0px 1px 3px 1px rgba(0, 0, 0, 0.15);\n",
              "      filter: drop-shadow(0px 1px 2px rgba(0, 0, 0, 0.3));\n",
              "      fill: #FFFFFF;\n",
              "    }\n",
              "  </style>\n",
              "\n",
              "      <script>\n",
              "        const buttonEl =\n",
              "          document.querySelector('#df-280bc5be-fbfe-40a3-ade4-ab2097e0b6ff button.colab-df-convert');\n",
              "        buttonEl.style.display =\n",
              "          google.colab.kernel.accessAllowed ? 'block' : 'none';\n",
              "\n",
              "        async function convertToInteractive(key) {\n",
              "          const element = document.querySelector('#df-280bc5be-fbfe-40a3-ade4-ab2097e0b6ff');\n",
              "          const dataTable =\n",
              "            await google.colab.kernel.invokeFunction('convertToInteractive',\n",
              "                                                     [key], {});\n",
              "          if (!dataTable) return;\n",
              "\n",
              "          const docLinkHtml = 'Like what you see? Visit the ' +\n",
              "            '<a target=\"_blank\" href=https://colab.research.google.com/notebooks/data_table.ipynb>data table notebook</a>'\n",
              "            + ' to learn more about interactive tables.';\n",
              "          element.innerHTML = '';\n",
              "          dataTable['output_type'] = 'display_data';\n",
              "          await google.colab.output.renderOutput(dataTable, element);\n",
              "          const docLink = document.createElement('div');\n",
              "          docLink.innerHTML = docLinkHtml;\n",
              "          element.appendChild(docLink);\n",
              "        }\n",
              "      </script>\n",
              "    </div>\n",
              "  </div>\n",
              "  "
            ]
          },
          "metadata": {},
          "execution_count": 25
        }
      ]
    },
    {
      "cell_type": "code",
      "source": [
        "imputed_df.isnull().sum().sum()"
      ],
      "metadata": {
        "colab": {
          "base_uri": "https://localhost:8080/"
        },
        "id": "0lu4jy7y3ldA",
        "outputId": "09be59be-dae5-42c4-ba79-852de2ab5248"
      },
      "execution_count": 26,
      "outputs": [
        {
          "output_type": "execute_result",
          "data": {
            "text/plain": [
              "0"
            ]
          },
          "metadata": {},
          "execution_count": 26
        }
      ]
    },
    {
      "cell_type": "markdown",
      "source": [
        "###Handling missing categorical values:"
      ],
      "metadata": {
        "id": "5ttCX2xdY_WX"
      }
    },
    {
      "cell_type": "code",
      "source": [
        "df_cat = df[['index','region_name','region_type','period_begin','period_end','duration','last_updated']]"
      ],
      "metadata": {
        "id": "yVkNkB2FM8ij"
      },
      "execution_count": 27,
      "outputs": []
    },
    {
      "cell_type": "code",
      "source": [
        "df_cat.shape"
      ],
      "metadata": {
        "colab": {
          "base_uri": "https://localhost:8080/"
        },
        "id": "dzTQGM0sOVSk",
        "outputId": "783dc07a-b220-442d-9503-e9c60aa7f364"
      },
      "execution_count": 28,
      "outputs": [
        {
          "output_type": "execute_result",
          "data": {
            "text/plain": [
              "(1653419, 7)"
            ]
          },
          "metadata": {},
          "execution_count": 28
        }
      ]
    },
    {
      "cell_type": "code",
      "source": [
        "imputer1 = SimpleImputer(missing_values=np.nan, strategy='most_frequent')"
      ],
      "metadata": {
        "id": "fCtKkArSRrxz"
      },
      "execution_count": 29,
      "outputs": []
    },
    {
      "cell_type": "code",
      "source": [
        "imputer_cat = imputer1.fit(df_cat)\n",
        "imputed1 = imputer_cat.transform(df_cat.values)\n",
        "print(imputer_cat)"
      ],
      "metadata": {
        "colab": {
          "base_uri": "https://localhost:8080/"
        },
        "id": "rwxNoT3oOows",
        "outputId": "eb981a96-7407-4fe1-e2cf-2ed3ec60dafc"
      },
      "execution_count": 30,
      "outputs": [
        {
          "output_type": "stream",
          "name": "stderr",
          "text": [
            "/usr/local/lib/python3.7/dist-packages/sklearn/base.py:451: UserWarning: X does not have valid feature names, but SimpleImputer was fitted with feature names\n",
            "  \"X does not have valid feature names, but\"\n"
          ]
        },
        {
          "output_type": "stream",
          "name": "stdout",
          "text": [
            "SimpleImputer(strategy='most_frequent')\n"
          ]
        }
      ]
    },
    {
      "cell_type": "code",
      "source": [
        "imputed_df1 = pd.DataFrame(df_cat, columns = df_cat.columns)"
      ],
      "metadata": {
        "id": "PVw3F3llSzzV"
      },
      "execution_count": 31,
      "outputs": []
    },
    {
      "cell_type": "code",
      "source": [
        "imputed_df1.head()"
      ],
      "metadata": {
        "colab": {
          "base_uri": "https://localhost:8080/",
          "height": 206
        },
        "id": "K62Zpx9mS91z",
        "outputId": "91bdf05f-504a-47c4-b098-481f283fdee0"
      },
      "execution_count": 32,
      "outputs": [
        {
          "output_type": "execute_result",
          "data": {
            "text/plain": [
              "   index           region_name region_type period_begin  period_end duration  \\\n",
              "0      0    Brevard County, FL      county   2021-04-12  2021-04-18  1 weeks   \n",
              "1      1    Brevard County, FL      county   2019-03-18  2019-03-24  1 weeks   \n",
              "3      3  Jefferson County, AL      county   2018-03-26  2018-04-01  1 weeks   \n",
              "4      4    Brevard County, FL      county   2019-07-29  2019-08-04  1 weeks   \n",
              "5      5    Brevard County, FL      county   2021-11-08  2021-11-14  1 weeks   \n",
              "\n",
              "          last_updated  \n",
              "0  2022-03-23 17:53:25  \n",
              "1  2022-03-23 17:53:25  \n",
              "3  2022-03-23 17:53:25  \n",
              "4  2022-03-23 17:53:25  \n",
              "5  2022-03-23 17:53:25  "
            ],
            "text/html": [
              "\n",
              "  <div id=\"df-23292aa2-1f3b-476d-a10e-b3a3988abe0a\">\n",
              "    <div class=\"colab-df-container\">\n",
              "      <div>\n",
              "<style scoped>\n",
              "    .dataframe tbody tr th:only-of-type {\n",
              "        vertical-align: middle;\n",
              "    }\n",
              "\n",
              "    .dataframe tbody tr th {\n",
              "        vertical-align: top;\n",
              "    }\n",
              "\n",
              "    .dataframe thead th {\n",
              "        text-align: right;\n",
              "    }\n",
              "</style>\n",
              "<table border=\"1\" class=\"dataframe\">\n",
              "  <thead>\n",
              "    <tr style=\"text-align: right;\">\n",
              "      <th></th>\n",
              "      <th>index</th>\n",
              "      <th>region_name</th>\n",
              "      <th>region_type</th>\n",
              "      <th>period_begin</th>\n",
              "      <th>period_end</th>\n",
              "      <th>duration</th>\n",
              "      <th>last_updated</th>\n",
              "    </tr>\n",
              "  </thead>\n",
              "  <tbody>\n",
              "    <tr>\n",
              "      <th>0</th>\n",
              "      <td>0</td>\n",
              "      <td>Brevard County, FL</td>\n",
              "      <td>county</td>\n",
              "      <td>2021-04-12</td>\n",
              "      <td>2021-04-18</td>\n",
              "      <td>1 weeks</td>\n",
              "      <td>2022-03-23 17:53:25</td>\n",
              "    </tr>\n",
              "    <tr>\n",
              "      <th>1</th>\n",
              "      <td>1</td>\n",
              "      <td>Brevard County, FL</td>\n",
              "      <td>county</td>\n",
              "      <td>2019-03-18</td>\n",
              "      <td>2019-03-24</td>\n",
              "      <td>1 weeks</td>\n",
              "      <td>2022-03-23 17:53:25</td>\n",
              "    </tr>\n",
              "    <tr>\n",
              "      <th>3</th>\n",
              "      <td>3</td>\n",
              "      <td>Jefferson County, AL</td>\n",
              "      <td>county</td>\n",
              "      <td>2018-03-26</td>\n",
              "      <td>2018-04-01</td>\n",
              "      <td>1 weeks</td>\n",
              "      <td>2022-03-23 17:53:25</td>\n",
              "    </tr>\n",
              "    <tr>\n",
              "      <th>4</th>\n",
              "      <td>4</td>\n",
              "      <td>Brevard County, FL</td>\n",
              "      <td>county</td>\n",
              "      <td>2019-07-29</td>\n",
              "      <td>2019-08-04</td>\n",
              "      <td>1 weeks</td>\n",
              "      <td>2022-03-23 17:53:25</td>\n",
              "    </tr>\n",
              "    <tr>\n",
              "      <th>5</th>\n",
              "      <td>5</td>\n",
              "      <td>Brevard County, FL</td>\n",
              "      <td>county</td>\n",
              "      <td>2021-11-08</td>\n",
              "      <td>2021-11-14</td>\n",
              "      <td>1 weeks</td>\n",
              "      <td>2022-03-23 17:53:25</td>\n",
              "    </tr>\n",
              "  </tbody>\n",
              "</table>\n",
              "</div>\n",
              "      <button class=\"colab-df-convert\" onclick=\"convertToInteractive('df-23292aa2-1f3b-476d-a10e-b3a3988abe0a')\"\n",
              "              title=\"Convert this dataframe to an interactive table.\"\n",
              "              style=\"display:none;\">\n",
              "        \n",
              "  <svg xmlns=\"http://www.w3.org/2000/svg\" height=\"24px\"viewBox=\"0 0 24 24\"\n",
              "       width=\"24px\">\n",
              "    <path d=\"M0 0h24v24H0V0z\" fill=\"none\"/>\n",
              "    <path d=\"M18.56 5.44l.94 2.06.94-2.06 2.06-.94-2.06-.94-.94-2.06-.94 2.06-2.06.94zm-11 1L8.5 8.5l.94-2.06 2.06-.94-2.06-.94L8.5 2.5l-.94 2.06-2.06.94zm10 10l.94 2.06.94-2.06 2.06-.94-2.06-.94-.94-2.06-.94 2.06-2.06.94z\"/><path d=\"M17.41 7.96l-1.37-1.37c-.4-.4-.92-.59-1.43-.59-.52 0-1.04.2-1.43.59L10.3 9.45l-7.72 7.72c-.78.78-.78 2.05 0 2.83L4 21.41c.39.39.9.59 1.41.59.51 0 1.02-.2 1.41-.59l7.78-7.78 2.81-2.81c.8-.78.8-2.07 0-2.86zM5.41 20L4 18.59l7.72-7.72 1.47 1.35L5.41 20z\"/>\n",
              "  </svg>\n",
              "      </button>\n",
              "      \n",
              "  <style>\n",
              "    .colab-df-container {\n",
              "      display:flex;\n",
              "      flex-wrap:wrap;\n",
              "      gap: 12px;\n",
              "    }\n",
              "\n",
              "    .colab-df-convert {\n",
              "      background-color: #E8F0FE;\n",
              "      border: none;\n",
              "      border-radius: 50%;\n",
              "      cursor: pointer;\n",
              "      display: none;\n",
              "      fill: #1967D2;\n",
              "      height: 32px;\n",
              "      padding: 0 0 0 0;\n",
              "      width: 32px;\n",
              "    }\n",
              "\n",
              "    .colab-df-convert:hover {\n",
              "      background-color: #E2EBFA;\n",
              "      box-shadow: 0px 1px 2px rgba(60, 64, 67, 0.3), 0px 1px 3px 1px rgba(60, 64, 67, 0.15);\n",
              "      fill: #174EA6;\n",
              "    }\n",
              "\n",
              "    [theme=dark] .colab-df-convert {\n",
              "      background-color: #3B4455;\n",
              "      fill: #D2E3FC;\n",
              "    }\n",
              "\n",
              "    [theme=dark] .colab-df-convert:hover {\n",
              "      background-color: #434B5C;\n",
              "      box-shadow: 0px 1px 3px 1px rgba(0, 0, 0, 0.15);\n",
              "      filter: drop-shadow(0px 1px 2px rgba(0, 0, 0, 0.3));\n",
              "      fill: #FFFFFF;\n",
              "    }\n",
              "  </style>\n",
              "\n",
              "      <script>\n",
              "        const buttonEl =\n",
              "          document.querySelector('#df-23292aa2-1f3b-476d-a10e-b3a3988abe0a button.colab-df-convert');\n",
              "        buttonEl.style.display =\n",
              "          google.colab.kernel.accessAllowed ? 'block' : 'none';\n",
              "\n",
              "        async function convertToInteractive(key) {\n",
              "          const element = document.querySelector('#df-23292aa2-1f3b-476d-a10e-b3a3988abe0a');\n",
              "          const dataTable =\n",
              "            await google.colab.kernel.invokeFunction('convertToInteractive',\n",
              "                                                     [key], {});\n",
              "          if (!dataTable) return;\n",
              "\n",
              "          const docLinkHtml = 'Like what you see? Visit the ' +\n",
              "            '<a target=\"_blank\" href=https://colab.research.google.com/notebooks/data_table.ipynb>data table notebook</a>'\n",
              "            + ' to learn more about interactive tables.';\n",
              "          element.innerHTML = '';\n",
              "          dataTable['output_type'] = 'display_data';\n",
              "          await google.colab.output.renderOutput(dataTable, element);\n",
              "          const docLink = document.createElement('div');\n",
              "          docLink.innerHTML = docLinkHtml;\n",
              "          element.appendChild(docLink);\n",
              "        }\n",
              "      </script>\n",
              "    </div>\n",
              "  </div>\n",
              "  "
            ]
          },
          "metadata": {},
          "execution_count": 32
        }
      ]
    },
    {
      "cell_type": "code",
      "source": [
        "imputed_df1.isnull().sum()"
      ],
      "metadata": {
        "colab": {
          "base_uri": "https://localhost:8080/"
        },
        "id": "J9eZ9GlITBCK",
        "outputId": "592d6f69-1149-4051-f752-9e768b67edfc"
      },
      "execution_count": 33,
      "outputs": [
        {
          "output_type": "execute_result",
          "data": {
            "text/plain": [
              "index           0\n",
              "region_name     0\n",
              "region_type     0\n",
              "period_begin    0\n",
              "period_end      0\n",
              "duration        0\n",
              "last_updated    0\n",
              "dtype: int64"
            ]
          },
          "metadata": {},
          "execution_count": 33
        }
      ]
    },
    {
      "cell_type": "code",
      "source": [
        "House_market_Dynamics = pd.merge(imputed_df, df_cat, on='index')"
      ],
      "metadata": {
        "id": "iDPtSKG36eqY"
      },
      "execution_count": 34,
      "outputs": []
    },
    {
      "cell_type": "code",
      "source": [
        "House_market_Dynamics.shape"
      ],
      "metadata": {
        "colab": {
          "base_uri": "https://localhost:8080/"
        },
        "id": "9s8SPPbyWj7H",
        "outputId": "8ea0602a-f7ea-44fe-bef5-ed48bebd8beb"
      },
      "execution_count": 35,
      "outputs": [
        {
          "output_type": "execute_result",
          "data": {
            "text/plain": [
              "(1653419, 87)"
            ]
          },
          "metadata": {},
          "execution_count": 35
        }
      ]
    },
    {
      "cell_type": "code",
      "source": [
        "House_market_Dynamics.isnull().sum().sum()"
      ],
      "metadata": {
        "colab": {
          "base_uri": "https://localhost:8080/"
        },
        "id": "xetjQwHWWkvh",
        "outputId": "76e1de31-4090-435c-aaf1-d6d7a5c71cfe"
      },
      "execution_count": 36,
      "outputs": [
        {
          "output_type": "execute_result",
          "data": {
            "text/plain": [
              "0"
            ]
          },
          "metadata": {},
          "execution_count": 36
        }
      ]
    },
    {
      "cell_type": "code",
      "source": [
        "# Final dataset after dealing with missing values\n",
        "House_market_Dynamics.head()"
      ],
      "metadata": {
        "colab": {
          "base_uri": "https://localhost:8080/",
          "height": 386
        },
        "id": "6Wphn5sU4GN_",
        "outputId": "71fd6cc9-7667-4ca9-e02d-671f7ed12fe4"
      },
      "execution_count": 37,
      "outputs": [
        {
          "output_type": "execute_result",
          "data": {
            "text/plain": [
              "   index  region_id  region_type_id  total_homes_sold  total_homes_sold_yoy  \\\n",
              "0    0.0      441.0             5.0             334.0              0.629268   \n",
              "1    1.0      441.0             5.0             248.0             -0.057034   \n",
              "2    3.0      155.0             5.0             283.0              0.092664   \n",
              "3    4.0      441.0             5.0             364.0              0.120000   \n",
              "4    5.0      441.0             5.0             270.0              0.054688   \n",
              "\n",
              "   average_homes_sold  average_homes_sold_yoy  \\\n",
              "0               334.0                0.629268   \n",
              "1               248.0               -0.057034   \n",
              "2               283.0                0.092664   \n",
              "3               364.0                0.120000   \n",
              "4               270.0                0.054688   \n",
              "\n",
              "   total_homes_sold_with_price_drops  total_homes_sold_with_price_drops_yoy  \\\n",
              "0                               66.0                               0.269231   \n",
              "1                                0.0                              -1.000000   \n",
              "2                               83.0                               0.257576   \n",
              "3                                2.0                               0.000000   \n",
              "4                               64.0                               0.066667   \n",
              "\n",
              "   average_homes_sold_with_price_drops  ...  \\\n",
              "0                                 66.0  ...   \n",
              "1                                  0.0  ...   \n",
              "2                                 83.0  ...   \n",
              "3                                  2.0  ...   \n",
              "4                                 64.0  ...   \n",
              "\n",
              "   adjusted_average_homes_delisted_yoy  adjusted_average_homes_sold_yoy  \\\n",
              "0                            -0.512195                         0.629268   \n",
              "1                             0.000000                        -0.057034   \n",
              "2                            -0.352941                         0.092664   \n",
              "3                             0.106383                         0.120000   \n",
              "4                            -0.096774                         0.054688   \n",
              "\n",
              "   adjusted_average_new_listings_yoy  adjusted_pending_sales_yoy  \\\n",
              "0                           0.132000                    1.103704   \n",
              "1                          -0.115502                   -0.051613   \n",
              "2                          -0.175573                    0.300000   \n",
              "3                          -0.175487                    0.123077   \n",
              "4                           0.141869                    0.162679   \n",
              "\n",
              "            region_name  region_type  period_begin  period_end  duration  \\\n",
              "0    Brevard County, FL       county    2021-04-12  2021-04-18   1 weeks   \n",
              "1    Brevard County, FL       county    2019-03-18  2019-03-24   1 weeks   \n",
              "2  Jefferson County, AL       county    2018-03-26  2018-04-01   1 weeks   \n",
              "3    Brevard County, FL       county    2019-07-29  2019-08-04   1 weeks   \n",
              "4    Brevard County, FL       county    2021-11-08  2021-11-14   1 weeks   \n",
              "\n",
              "          last_updated  \n",
              "0  2022-03-23 17:53:25  \n",
              "1  2022-03-23 17:53:25  \n",
              "2  2022-03-23 17:53:25  \n",
              "3  2022-03-23 17:53:25  \n",
              "4  2022-03-23 17:53:25  \n",
              "\n",
              "[5 rows x 87 columns]"
            ],
            "text/html": [
              "\n",
              "  <div id=\"df-89b03559-caf8-4ca3-8fe6-b26a776c8398\">\n",
              "    <div class=\"colab-df-container\">\n",
              "      <div>\n",
              "<style scoped>\n",
              "    .dataframe tbody tr th:only-of-type {\n",
              "        vertical-align: middle;\n",
              "    }\n",
              "\n",
              "    .dataframe tbody tr th {\n",
              "        vertical-align: top;\n",
              "    }\n",
              "\n",
              "    .dataframe thead th {\n",
              "        text-align: right;\n",
              "    }\n",
              "</style>\n",
              "<table border=\"1\" class=\"dataframe\">\n",
              "  <thead>\n",
              "    <tr style=\"text-align: right;\">\n",
              "      <th></th>\n",
              "      <th>index</th>\n",
              "      <th>region_id</th>\n",
              "      <th>region_type_id</th>\n",
              "      <th>total_homes_sold</th>\n",
              "      <th>total_homes_sold_yoy</th>\n",
              "      <th>average_homes_sold</th>\n",
              "      <th>average_homes_sold_yoy</th>\n",
              "      <th>total_homes_sold_with_price_drops</th>\n",
              "      <th>total_homes_sold_with_price_drops_yoy</th>\n",
              "      <th>average_homes_sold_with_price_drops</th>\n",
              "      <th>...</th>\n",
              "      <th>adjusted_average_homes_delisted_yoy</th>\n",
              "      <th>adjusted_average_homes_sold_yoy</th>\n",
              "      <th>adjusted_average_new_listings_yoy</th>\n",
              "      <th>adjusted_pending_sales_yoy</th>\n",
              "      <th>region_name</th>\n",
              "      <th>region_type</th>\n",
              "      <th>period_begin</th>\n",
              "      <th>period_end</th>\n",
              "      <th>duration</th>\n",
              "      <th>last_updated</th>\n",
              "    </tr>\n",
              "  </thead>\n",
              "  <tbody>\n",
              "    <tr>\n",
              "      <th>0</th>\n",
              "      <td>0.0</td>\n",
              "      <td>441.0</td>\n",
              "      <td>5.0</td>\n",
              "      <td>334.0</td>\n",
              "      <td>0.629268</td>\n",
              "      <td>334.0</td>\n",
              "      <td>0.629268</td>\n",
              "      <td>66.0</td>\n",
              "      <td>0.269231</td>\n",
              "      <td>66.0</td>\n",
              "      <td>...</td>\n",
              "      <td>-0.512195</td>\n",
              "      <td>0.629268</td>\n",
              "      <td>0.132000</td>\n",
              "      <td>1.103704</td>\n",
              "      <td>Brevard County, FL</td>\n",
              "      <td>county</td>\n",
              "      <td>2021-04-12</td>\n",
              "      <td>2021-04-18</td>\n",
              "      <td>1 weeks</td>\n",
              "      <td>2022-03-23 17:53:25</td>\n",
              "    </tr>\n",
              "    <tr>\n",
              "      <th>1</th>\n",
              "      <td>1.0</td>\n",
              "      <td>441.0</td>\n",
              "      <td>5.0</td>\n",
              "      <td>248.0</td>\n",
              "      <td>-0.057034</td>\n",
              "      <td>248.0</td>\n",
              "      <td>-0.057034</td>\n",
              "      <td>0.0</td>\n",
              "      <td>-1.000000</td>\n",
              "      <td>0.0</td>\n",
              "      <td>...</td>\n",
              "      <td>0.000000</td>\n",
              "      <td>-0.057034</td>\n",
              "      <td>-0.115502</td>\n",
              "      <td>-0.051613</td>\n",
              "      <td>Brevard County, FL</td>\n",
              "      <td>county</td>\n",
              "      <td>2019-03-18</td>\n",
              "      <td>2019-03-24</td>\n",
              "      <td>1 weeks</td>\n",
              "      <td>2022-03-23 17:53:25</td>\n",
              "    </tr>\n",
              "    <tr>\n",
              "      <th>2</th>\n",
              "      <td>3.0</td>\n",
              "      <td>155.0</td>\n",
              "      <td>5.0</td>\n",
              "      <td>283.0</td>\n",
              "      <td>0.092664</td>\n",
              "      <td>283.0</td>\n",
              "      <td>0.092664</td>\n",
              "      <td>83.0</td>\n",
              "      <td>0.257576</td>\n",
              "      <td>83.0</td>\n",
              "      <td>...</td>\n",
              "      <td>-0.352941</td>\n",
              "      <td>0.092664</td>\n",
              "      <td>-0.175573</td>\n",
              "      <td>0.300000</td>\n",
              "      <td>Jefferson County, AL</td>\n",
              "      <td>county</td>\n",
              "      <td>2018-03-26</td>\n",
              "      <td>2018-04-01</td>\n",
              "      <td>1 weeks</td>\n",
              "      <td>2022-03-23 17:53:25</td>\n",
              "    </tr>\n",
              "    <tr>\n",
              "      <th>3</th>\n",
              "      <td>4.0</td>\n",
              "      <td>441.0</td>\n",
              "      <td>5.0</td>\n",
              "      <td>364.0</td>\n",
              "      <td>0.120000</td>\n",
              "      <td>364.0</td>\n",
              "      <td>0.120000</td>\n",
              "      <td>2.0</td>\n",
              "      <td>0.000000</td>\n",
              "      <td>2.0</td>\n",
              "      <td>...</td>\n",
              "      <td>0.106383</td>\n",
              "      <td>0.120000</td>\n",
              "      <td>-0.175487</td>\n",
              "      <td>0.123077</td>\n",
              "      <td>Brevard County, FL</td>\n",
              "      <td>county</td>\n",
              "      <td>2019-07-29</td>\n",
              "      <td>2019-08-04</td>\n",
              "      <td>1 weeks</td>\n",
              "      <td>2022-03-23 17:53:25</td>\n",
              "    </tr>\n",
              "    <tr>\n",
              "      <th>4</th>\n",
              "      <td>5.0</td>\n",
              "      <td>441.0</td>\n",
              "      <td>5.0</td>\n",
              "      <td>270.0</td>\n",
              "      <td>0.054688</td>\n",
              "      <td>270.0</td>\n",
              "      <td>0.054688</td>\n",
              "      <td>64.0</td>\n",
              "      <td>0.066667</td>\n",
              "      <td>64.0</td>\n",
              "      <td>...</td>\n",
              "      <td>-0.096774</td>\n",
              "      <td>0.054688</td>\n",
              "      <td>0.141869</td>\n",
              "      <td>0.162679</td>\n",
              "      <td>Brevard County, FL</td>\n",
              "      <td>county</td>\n",
              "      <td>2021-11-08</td>\n",
              "      <td>2021-11-14</td>\n",
              "      <td>1 weeks</td>\n",
              "      <td>2022-03-23 17:53:25</td>\n",
              "    </tr>\n",
              "  </tbody>\n",
              "</table>\n",
              "<p>5 rows × 87 columns</p>\n",
              "</div>\n",
              "      <button class=\"colab-df-convert\" onclick=\"convertToInteractive('df-89b03559-caf8-4ca3-8fe6-b26a776c8398')\"\n",
              "              title=\"Convert this dataframe to an interactive table.\"\n",
              "              style=\"display:none;\">\n",
              "        \n",
              "  <svg xmlns=\"http://www.w3.org/2000/svg\" height=\"24px\"viewBox=\"0 0 24 24\"\n",
              "       width=\"24px\">\n",
              "    <path d=\"M0 0h24v24H0V0z\" fill=\"none\"/>\n",
              "    <path d=\"M18.56 5.44l.94 2.06.94-2.06 2.06-.94-2.06-.94-.94-2.06-.94 2.06-2.06.94zm-11 1L8.5 8.5l.94-2.06 2.06-.94-2.06-.94L8.5 2.5l-.94 2.06-2.06.94zm10 10l.94 2.06.94-2.06 2.06-.94-2.06-.94-.94-2.06-.94 2.06-2.06.94z\"/><path d=\"M17.41 7.96l-1.37-1.37c-.4-.4-.92-.59-1.43-.59-.52 0-1.04.2-1.43.59L10.3 9.45l-7.72 7.72c-.78.78-.78 2.05 0 2.83L4 21.41c.39.39.9.59 1.41.59.51 0 1.02-.2 1.41-.59l7.78-7.78 2.81-2.81c.8-.78.8-2.07 0-2.86zM5.41 20L4 18.59l7.72-7.72 1.47 1.35L5.41 20z\"/>\n",
              "  </svg>\n",
              "      </button>\n",
              "      \n",
              "  <style>\n",
              "    .colab-df-container {\n",
              "      display:flex;\n",
              "      flex-wrap:wrap;\n",
              "      gap: 12px;\n",
              "    }\n",
              "\n",
              "    .colab-df-convert {\n",
              "      background-color: #E8F0FE;\n",
              "      border: none;\n",
              "      border-radius: 50%;\n",
              "      cursor: pointer;\n",
              "      display: none;\n",
              "      fill: #1967D2;\n",
              "      height: 32px;\n",
              "      padding: 0 0 0 0;\n",
              "      width: 32px;\n",
              "    }\n",
              "\n",
              "    .colab-df-convert:hover {\n",
              "      background-color: #E2EBFA;\n",
              "      box-shadow: 0px 1px 2px rgba(60, 64, 67, 0.3), 0px 1px 3px 1px rgba(60, 64, 67, 0.15);\n",
              "      fill: #174EA6;\n",
              "    }\n",
              "\n",
              "    [theme=dark] .colab-df-convert {\n",
              "      background-color: #3B4455;\n",
              "      fill: #D2E3FC;\n",
              "    }\n",
              "\n",
              "    [theme=dark] .colab-df-convert:hover {\n",
              "      background-color: #434B5C;\n",
              "      box-shadow: 0px 1px 3px 1px rgba(0, 0, 0, 0.15);\n",
              "      filter: drop-shadow(0px 1px 2px rgba(0, 0, 0, 0.3));\n",
              "      fill: #FFFFFF;\n",
              "    }\n",
              "  </style>\n",
              "\n",
              "      <script>\n",
              "        const buttonEl =\n",
              "          document.querySelector('#df-89b03559-caf8-4ca3-8fe6-b26a776c8398 button.colab-df-convert');\n",
              "        buttonEl.style.display =\n",
              "          google.colab.kernel.accessAllowed ? 'block' : 'none';\n",
              "\n",
              "        async function convertToInteractive(key) {\n",
              "          const element = document.querySelector('#df-89b03559-caf8-4ca3-8fe6-b26a776c8398');\n",
              "          const dataTable =\n",
              "            await google.colab.kernel.invokeFunction('convertToInteractive',\n",
              "                                                     [key], {});\n",
              "          if (!dataTable) return;\n",
              "\n",
              "          const docLinkHtml = 'Like what you see? Visit the ' +\n",
              "            '<a target=\"_blank\" href=https://colab.research.google.com/notebooks/data_table.ipynb>data table notebook</a>'\n",
              "            + ' to learn more about interactive tables.';\n",
              "          element.innerHTML = '';\n",
              "          dataTable['output_type'] = 'display_data';\n",
              "          await google.colab.output.renderOutput(dataTable, element);\n",
              "          const docLink = document.createElement('div');\n",
              "          docLink.innerHTML = docLinkHtml;\n",
              "          element.appendChild(docLink);\n",
              "        }\n",
              "      </script>\n",
              "    </div>\n",
              "  </div>\n",
              "  "
            ]
          },
          "metadata": {},
          "execution_count": 37
        }
      ]
    },
    {
      "cell_type": "code",
      "source": [
        "#Saving the dataset as a csv file\n",
        "House_market_Dynamics.to_csv('House_market_Dynamics.csv')"
      ],
      "metadata": {
        "id": "U5E-5dUBWpCQ"
      },
      "execution_count": 38,
      "outputs": []
    }
  ]
}